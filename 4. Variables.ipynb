{
 "cells": [
  {
   "cell_type": "markdown",
   "id": "9748aeb1-3c75-4490-9b32-6c362f14d9ca",
   "metadata": {},
   "source": [
    "In this short lesson, we'll learn how to define variables in Python. A variable is a name you assign a value or object, such as one of the basic data types that we learned about last time. After assigning a variable, you can access its associated value or object using the variable's name. Variables are a convenient way of storing values with names that are meaningful.\r\n",
    "\r\n",
    "In Python, assign variables using \"=\":"
   ]
  },
  {
   "cell_type": "code",
   "execution_count": 2,
   "id": "c4d1242f-d87b-48f1-b6df-dac4d5db9a5e",
   "metadata": {},
   "outputs": [
    {
     "name": "stdout",
     "output_type": "stream",
     "text": [
      "10\n",
      "Python is fun\n",
      "True\n"
     ]
    }
   ],
   "source": [
    "x = 10                 \n",
    "y = \"Python is fun\"         \n",
    "z = 144**0.5 == 12\n",
    "\n",
    "print(x)\n",
    "print(y)\n",
    "print(z)"
   ]
  },
  {
   "cell_type": "code",
   "execution_count": 4,
   "id": "bad43399-2771-40f2-ba31-f4b0e45668a5",
   "metadata": {},
   "outputs": [
    {
     "name": "stdout",
     "output_type": "stream",
     "text": [
      "8\n",
      "10\n"
     ]
    }
   ],
   "source": [
    "p=8          # This works, but it looks messy.\n",
    "print(p)   \n",
    "\n",
    "p = 10       # Use spaces instead\n",
    "print(p)"
   ]
  },
  {
   "cell_type": "markdown",
   "id": "82f7c92c-d613-4d4a-88e9-1cb0e030f76d",
   "metadata": {},
   "source": [
    "As shown above, you can reassign a variable after creating it by assigning the variable name a new value. After assigning variables, you can perform operations on the objects assigned to them using their names:"
   ]
  },
  {
   "cell_type": "code",
   "execution_count": 7,
   "id": "8c6994b4-bfdd-46b0-a19e-d1f23840e336",
   "metadata": {},
   "outputs": [
    {
     "data": {
      "text/plain": [
       "21"
      ]
     },
     "execution_count": 7,
     "metadata": {},
     "output_type": "execute_result"
    }
   ],
   "source": [
    "x + z + p"
   ]
  },
  {
   "cell_type": "markdown",
   "id": "a7d1bd59-fa40-466a-9c54-2b91f51e4e03",
   "metadata": {},
   "source": [
    "You can assign the same object to multiple variables with a multiple assignment statement."
   ]
  },
  {
   "cell_type": "code",
   "execution_count": 10,
   "id": "061d6940-6a25-465a-a746-9e848aa4405c",
   "metadata": {},
   "outputs": [
    {
     "name": "stdout",
     "output_type": "stream",
     "text": [
      "4\n",
      "4\n"
     ]
    }
   ],
   "source": [
    "n = m = 4\n",
    "print(n)\n",
    "print(m)"
   ]
  },
  {
   "cell_type": "markdown",
   "id": "9f03fb62-f1e3-4539-b6fc-f3186365ade4",
   "metadata": {},
   "source": [
    "You can also assign several different variables at the same time using a comma separated sequence of variable names followed by the assignment operator and a comma separated sequence of values inside parentheses:"
   ]
  },
  {
   "cell_type": "code",
   "execution_count": 13,
   "id": "4d6d8eb7-5df4-4eb4-ace1-ef707b9d2e2e",
   "metadata": {},
   "outputs": [
    {
     "name": "stdout",
     "output_type": "stream",
     "text": [
      "10\n",
      "20\n",
      "30\n"
     ]
    }
   ],
   "source": [
    "x, y, z = (10, 20 ,30)\n",
    "\n",
    "print(x)\n",
    "print(y)\n",
    "print(z)"
   ]
  },
  {
   "cell_type": "code",
   "execution_count": 15,
   "id": "df826afa-bce7-4b5d-af82-bbcaa5a11fd4",
   "metadata": {},
   "outputs": [
    {
     "name": "stdout",
     "output_type": "stream",
     "text": [
      "20\n",
      "10\n"
     ]
    }
   ],
   "source": [
    "(x, y) = (y, x)\n",
    "\n",
    "print(x)\n",
    "print(y)"
   ]
  },
  {
   "cell_type": "code",
   "execution_count": 17,
   "id": "64a96118-36d0-4b73-a848-74bb26901b23",
   "metadata": {},
   "outputs": [
    {
     "name": "stdout",
     "output_type": "stream",
     "text": [
      "Hello\n",
      "hello\n"
     ]
    }
   ],
   "source": [
    "x = \"Hello\"     # Create a new string\n",
    "y = x           # Assign y the same object as x\n",
    "y = y.lower()   # Assign y the result of y.lower()\n",
    "print(x)\n",
    "print(y)"
   ]
  },
  {
   "cell_type": "markdown",
   "id": "6f0974d5-15f5-4558-bf3b-3c438b2c6151",
   "metadata": {},
   "source": [
    "In the case above, we first assign x the value \"Hello\", a string object stored somewhere in memory. Next we use the string method lower() to make the string assigned to y lowercase. Since strings are immutable, Python creates an entirely new string, \"hello\" and stores it somewhere in memory separate from the original \"Hello\" object. As a result, x and y refer to different objects in memory and produce different results when printed to the console.\r\n",
    "\r\n",
    "By contrast, lists are a mutable data structure that can hold multiple objects. If you alter a list, Python doesn't make an entirely new list in memory: it changes the actual list object itself. This can lead to seemingly inconsistent and confusing behavior:"
   ]
  },
  {
   "cell_type": "code",
   "execution_count": 20,
   "id": "cb431a85-f5ed-4e24-9af7-a74e28c9fbaa",
   "metadata": {},
   "outputs": [
    {
     "name": "stdout",
     "output_type": "stream",
     "text": [
      "[1, 2, 3, 4]\n",
      "[1, 2, 3, 4]\n"
     ]
    }
   ],
   "source": [
    "x = [1,2,3]    # Create a new list\n",
    "y = x          # Assign y the same object as x\n",
    "y.append(4)    # Add 4 to the end of list y\n",
    "print(x)\n",
    "print(y)"
   ]
  },
  {
   "cell_type": "code",
   "execution_count": null,
   "id": "1765fb4e-b343-4a40-b48e-94ece09ce318",
   "metadata": {},
   "outputs": [],
   "source": []
  }
 ],
 "metadata": {
  "kernelspec": {
   "display_name": "Python 3 (ipykernel)",
   "language": "python",
   "name": "python3"
  },
  "language_info": {
   "codemirror_mode": {
    "name": "ipython",
    "version": 3
   },
   "file_extension": ".py",
   "mimetype": "text/x-python",
   "name": "python",
   "nbconvert_exporter": "python",
   "pygments_lexer": "ipython3",
   "version": "3.12.4"
  }
 },
 "nbformat": 4,
 "nbformat_minor": 5
}
