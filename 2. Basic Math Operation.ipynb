{
 "cells": [
  {
   "cell_type": "markdown",
   "id": "fde38687-38cd-4ac8-8bd4-1261802fbe3e",
   "metadata": {},
   "source": [
    "### Python allows you to perform all of the basic mathematical computations that you can perform on a calculator, using syntax similar to what you'd expect if you were using a calculator. To perform arithmetic with Python, simply type the operation you wish to perform into a code cell and then run the cell to view the result. (Remember, if you like you can fork this notebook using the blue button at the top of the screen and then run code cells yourself by selecting the cell you wish to run and pressing control + enter.).n:"
   ]
  },
  {
   "cell_type": "markdown",
   "id": "66a562b5-8a3a-46f9-bbc7-5fef433964a7",
   "metadata": {},
   "source": [
    "### Use the + sign to perform addition:"
   ]
  },
  {
   "cell_type": "code",
   "execution_count": 4,
   "id": "5af8cc92-fae2-4b1e-a07f-280d9bf4963b",
   "metadata": {},
   "outputs": [
    {
     "data": {
      "text/plain": [
       "15"
      ]
     },
     "execution_count": 4,
     "metadata": {},
     "output_type": "execute_result"
    }
   ],
   "source": [
    "10 +5"
   ]
  },
  {
   "cell_type": "code",
   "execution_count": 6,
   "id": "339c2515-bb79-403e-ad69-1d44997f17e0",
   "metadata": {},
   "outputs": [
    {
     "data": {
      "text/plain": [
       "5"
      ]
     },
     "execution_count": 6,
     "metadata": {},
     "output_type": "execute_result"
    }
   ],
   "source": [
    "10 - 5\n"
   ]
  },
  {
   "cell_type": "code",
   "execution_count": 8,
   "id": "af5fd2f8-3b07-41be-a400-f4e67a2cc2e1",
   "metadata": {},
   "outputs": [
    {
     "data": {
      "text/plain": [
       "3.3333333333333335"
      ]
     },
     "execution_count": 8,
     "metadata": {},
     "output_type": "execute_result"
    }
   ],
   "source": [
    "10 / 3\n"
   ]
  },
  {
   "cell_type": "markdown",
   "id": "ee8a3ad9-3ad8-4ed8-9808-b2568ea36f18",
   "metadata": {},
   "source": [
    "### Use // for floor division (Round decimal remainders down):"
   ]
  },
  {
   "cell_type": "code",
   "execution_count": 11,
   "id": "d868cb58-b092-4134-b275-362a57450223",
   "metadata": {},
   "outputs": [
    {
     "data": {
      "text/plain": [
       "3"
      ]
     },
     "execution_count": 11,
     "metadata": {},
     "output_type": "execute_result"
    }
   ],
   "source": [
    "10 // 3"
   ]
  },
  {
   "cell_type": "markdown",
   "id": "69f0abcf-6599-499c-b9b6-ffb9b4d65476",
   "metadata": {},
   "source": [
    "### Use ** for exponentiation:"
   ]
  },
  {
   "cell_type": "code",
   "execution_count": 14,
   "id": "d37f9f53-dce9-4921-95dd-584be64a5587",
   "metadata": {},
   "outputs": [
    {
     "data": {
      "text/plain": [
       "1000"
      ]
     },
     "execution_count": 14,
     "metadata": {},
     "output_type": "execute_result"
    }
   ],
   "source": [
    "10 ** 3"
   ]
  },
  {
   "cell_type": "markdown",
   "id": "ba23f949-9bd1-4093-bc71-8883c4cb6493",
   "metadata": {},
   "source": [
    "### Math expressions in Python follow the normal arithmetic order of operations so * and / are executed before + and - and ** is executed before multiplication and division.n."
   ]
  },
  {
   "cell_type": "markdown",
   "id": "c7ebda52-9a8d-49a9-bb1b-960d4fc893af",
   "metadata": {},
   "source": [
    "### Note: Lines within Python code that begin with \"#\" are text comments. Comments are typically used to make notes and describe what code does and do not affect the code when it is run."
   ]
  },
  {
   "cell_type": "code",
   "execution_count": 18,
   "id": "04028175-9f56-469f-b8ec-34d6aeac7904",
   "metadata": {},
   "outputs": [
    {
     "data": {
      "text/plain": [
       "77"
      ]
     },
     "execution_count": 18,
     "metadata": {},
     "output_type": "execute_result"
    }
   ],
   "source": [
    "# These operations are executed in reverse order of appearance due to the order of operations.\n",
    "\n",
    "2 + 3 * 5 ** 2"
   ]
  },
  {
   "cell_type": "markdown",
   "id": "46b34f8a-1d3d-4c24-bf86-b66e25775b8f",
   "metadata": {},
   "source": [
    "### You can use parentheses in your math expressions to ensure that operations are carried out on the correct order. Operations within parentheses are carried out before operations that are external to the parentheses, just like you'd expect."
   ]
  },
  {
   "cell_type": "code",
   "execution_count": 21,
   "id": "414a9725-3ed5-433b-8a87-d4a9b56b8c9d",
   "metadata": {},
   "outputs": [
    {
     "data": {
      "text/plain": [
       "625"
      ]
     },
     "execution_count": 21,
     "metadata": {},
     "output_type": "execute_result"
    }
   ],
   "source": [
    "# This time, the addition comes first and the exponentiation comes last.\n",
    "\n",
    "((2 + 3) * 5 ) ** 2"
   ]
  },
  {
   "cell_type": "markdown",
   "id": "d147f3be-0beb-4a22-8bd8-a8b03b0b3b9b",
   "metadata": {},
   "source": [
    "### If you're new to programming, you may not be familiar with the modulus operator. The modulus produces the remainder you'd get when dividing two numbers. Use the % sign to take the modulus in Python:"
   ]
  },
  {
   "cell_type": "code",
   "execution_count": 26,
   "id": "6a3e9532-2115-4c1a-aa18-a5f0f67ec354",
   "metadata": {},
   "outputs": [
    {
     "data": {
      "text/plain": [
       "25"
      ]
     },
     "execution_count": 26,
     "metadata": {},
     "output_type": "execute_result"
    }
   ],
   "source": [
    "100 % 75"
   ]
  },
  {
   "cell_type": "markdown",
   "id": "81cefbc4-85bc-44aa-8f30-c625be6a2670",
   "metadata": {},
   "source": [
    "### Beyond symbolic operators, Python contains a variety of named math functions available in the \"math\" module. To load a library into Python, \"import\" followed by the name of the library."
   ]
  },
  {
   "cell_type": "code",
   "execution_count": 31,
   "id": "f8b4a219-3d21-4068-8ada-ae447be3d8e8",
   "metadata": {},
   "outputs": [
    {
     "data": {
      "text/plain": [
       "0.9999698965391098"
      ]
     },
     "execution_count": 31,
     "metadata": {},
     "output_type": "execute_result"
    }
   ],
   "source": [
    "import math\n",
    "\n",
    "math.log(2.7182)"
   ]
  },
  {
   "cell_type": "code",
   "execution_count": 33,
   "id": "da7ca72e-ba88-4538-85d1-12fb872c99f3",
   "metadata": {},
   "outputs": [
    {
     "data": {
      "text/plain": [
       "2.0"
      ]
     },
     "execution_count": 33,
     "metadata": {},
     "output_type": "execute_result"
    }
   ],
   "source": [
    "math.log(100, 10)"
   ]
  },
  {
   "cell_type": "code",
   "execution_count": 35,
   "id": "038c7786-988d-4317-908c-76686ef6b420",
   "metadata": {},
   "outputs": [
    {
     "data": {
      "text/plain": [
       "22026.465794806718"
      ]
     },
     "execution_count": 35,
     "metadata": {},
     "output_type": "execute_result"
    }
   ],
   "source": [
    "# math.exp() raises e to the power of its argument\n",
    "\n",
    "math.exp(10)"
   ]
  },
  {
   "cell_type": "code",
   "execution_count": 37,
   "id": "2ee5165a-544f-4da6-b3b9-d101ceec56ba",
   "metadata": {},
   "outputs": [
    {
     "data": {
      "text/plain": [
       "8.0"
      ]
     },
     "execution_count": 37,
     "metadata": {},
     "output_type": "execute_result"
    }
   ],
   "source": [
    "math.sqrt(64)"
   ]
  },
  {
   "cell_type": "code",
   "execution_count": 39,
   "id": "e694d537-25b5-4721-9b30-28269294e931",
   "metadata": {},
   "outputs": [
    {
     "data": {
      "text/plain": [
       "30"
      ]
     },
     "execution_count": 39,
     "metadata": {},
     "output_type": "execute_result"
    }
   ],
   "source": [
    "# Use abs() to get the absolute value of a number. Note abs() is a base Python function so you do not need to load the math package to use it.\n",
    "\n",
    "abs(-30)"
   ]
  },
  {
   "cell_type": "code",
   "execution_count": 41,
   "id": "ffde6917-0e3a-4485-b449-9466cee64046",
   "metadata": {},
   "outputs": [
    {
     "data": {
      "text/plain": [
       "3.141592653589793"
      ]
     },
     "execution_count": 41,
     "metadata": {},
     "output_type": "execute_result"
    }
   ],
   "source": [
    "math.pi   # Get the constant pi\n"
   ]
  },
  {
   "cell_type": "markdown",
   "id": "9d1f87d9-af07-47c0-8d27-62cf69962b7c",
   "metadata": {},
   "source": [
    "### Base Python contains a round() function that lets you round numbers to the nearest whole number. You can also round up or down with math.ceil and math.floor respectively."
   ]
  },
  {
   "cell_type": "code",
   "execution_count": 44,
   "id": "74af643d-2a33-4c8f-af90-542f20ca988b",
   "metadata": {},
   "outputs": [
    {
     "data": {
      "text/plain": [
       "233"
      ]
     },
     "execution_count": 44,
     "metadata": {},
     "output_type": "execute_result"
    }
   ],
   "source": [
    "# Use round() to round a number to the nearest whole number:\n",
    "\n",
    "round(233.234)"
   ]
  },
  {
   "cell_type": "code",
   "execution_count": 46,
   "id": "bcf77c0f-edc3-4dca-9fcb-8c2b298e4f9e",
   "metadata": {},
   "outputs": [
    {
     "data": {
      "text/plain": [
       "233.2"
      ]
     },
     "execution_count": 46,
     "metadata": {},
     "output_type": "execute_result"
    }
   ],
   "source": [
    "# Add a second argument to round to a specified decimal place\n",
    "\n",
    "round(233.234, 1)   # round to 1 decimal place"
   ]
  },
  {
   "cell_type": "code",
   "execution_count": 48,
   "id": "3dd6fa60-de63-42a3-b6d0-3ee0dc16577f",
   "metadata": {},
   "outputs": [
    {
     "data": {
      "text/plain": [
       "230.0"
      ]
     },
     "execution_count": 48,
     "metadata": {},
     "output_type": "execute_result"
    }
   ],
   "source": [
    "# Enter a negative number to round to the left of the decimal\n",
    "\n",
    "round(233.234, -1)   # round to the 10's place"
   ]
  },
  {
   "cell_type": "code",
   "execution_count": 50,
   "id": "4bc74cf0-d8b5-4ff4-bbf9-b103637e7aa9",
   "metadata": {},
   "outputs": [
    {
     "data": {
      "text/plain": [
       "2"
      ]
     },
     "execution_count": 50,
     "metadata": {},
     "output_type": "execute_result"
    }
   ],
   "source": [
    "# Round down to the nearest whole number with math.floor()\n",
    "\n",
    "math.floor(2.8) "
   ]
  },
  {
   "cell_type": "code",
   "execution_count": 52,
   "id": "ac903c33-524f-4785-96d8-47dbbca70413",
   "metadata": {},
   "outputs": [
    {
     "data": {
      "text/plain": [
       "3"
      ]
     },
     "execution_count": 52,
     "metadata": {},
     "output_type": "execute_result"
    }
   ],
   "source": [
    "# Round up with math.ciel()\n",
    "\n",
    "math.ceil(2.2)"
   ]
  },
  {
   "cell_type": "code",
   "execution_count": null,
   "id": "9f914727-50db-475a-ad52-11104075dc3c",
   "metadata": {},
   "outputs": [],
   "source": []
  }
 ],
 "metadata": {
  "kernelspec": {
   "display_name": "Python 3 (ipykernel)",
   "language": "python",
   "name": "python3"
  },
  "language_info": {
   "codemirror_mode": {
    "name": "ipython",
    "version": 3
   },
   "file_extension": ".py",
   "mimetype": "text/x-python",
   "name": "python",
   "nbconvert_exporter": "python",
   "pygments_lexer": "ipython3",
   "version": "3.12.4"
  }
 },
 "nbformat": 4,
 "nbformat_minor": 5
}
