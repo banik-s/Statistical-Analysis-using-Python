{
 "cells": [
  {
   "cell_type": "markdown",
   "id": "1a6affe8-053e-4375-ae43-3e9e6fe5a65a",
   "metadata": {},
   "source": [
    "### Integers"
   ]
  },
  {
   "cell_type": "markdown",
   "id": "6354a72d-cff0-4e97-92c0-d3e28a58f310",
   "metadata": {},
   "source": [
    "Integers or \"ints\" for short, are whole-numbered numeric values. Any positive or negative number (or 0) without a decimal is an integer in Python. Integer values have unlimited precision, meaning an integer is exact. You can check the type of a Python object with the type() function. Let's run type() on an integer:"
   ]
  },
  {
   "cell_type": "code",
   "execution_count": 3,
   "id": "d351aeec-7479-4d45-8fca-6846fd54f52c",
   "metadata": {},
   "outputs": [
    {
     "data": {
      "text/plain": [
       "int"
      ]
     },
     "execution_count": 3,
     "metadata": {},
     "output_type": "execute_result"
    }
   ],
   "source": [
    "type(12)"
   ]
  },
  {
   "cell_type": "markdown",
   "id": "1709fce8-de8e-4238-abe0-747609199711",
   "metadata": {},
   "source": [
    "Above we see that the type of 12 is of type \"int\". You can also use the function isinstance() to check whether an object is an instance of a given type"
   ]
  },
  {
   "cell_type": "code",
   "execution_count": 6,
   "id": "2cd8dd98-ac63-4e5c-bfc6-9b35d65fc587",
   "metadata": {},
   "outputs": [
    {
     "data": {
      "text/plain": [
       "True"
      ]
     },
     "execution_count": 6,
     "metadata": {},
     "output_type": "execute_result"
    }
   ],
   "source": [
    "# Check if 12 is an instance of type \"int\"\n",
    "\n",
    "isinstance(12, int)"
   ]
  },
  {
   "cell_type": "markdown",
   "id": "ae64e2e8-8605-4dab-ab93-557ec9ca80cd",
   "metadata": {},
   "source": [
    "### Floats"
   ]
  },
  {
   "cell_type": "markdown",
   "id": "ace85bef-57ed-4e9a-8e06-71b0c7701463",
   "metadata": {},
   "source": [
    "Floating point numbers or \"floats\" are numbers with decimal values. Unlike integers, floating point numbers don't have unlimited precision because irrational decimal numbers are infinitely long and therefore can't be stored in memory. Instead, the computer approximates the value of long decimals, so there can be small rounding errors in long floats. This error is so minuscule it usually isn't of concern to us, but it can add up in certain cases when making many repeated calculations.\r\n",
    "\r\n",
    "Every number in Python with a decimal point is a float, even if there are no non-zero numbers after the decimal:"
   ]
  },
  {
   "cell_type": "code",
   "execution_count": 12,
   "id": "90a1d76d-1274-4be2-a581-40a2c6b07788",
   "metadata": {},
   "outputs": [
    {
     "data": {
      "text/plain": [
       "float"
      ]
     },
     "execution_count": 12,
     "metadata": {},
     "output_type": "execute_result"
    }
   ],
   "source": [
    "type(1.0)"
   ]
  },
  {
   "cell_type": "code",
   "execution_count": 14,
   "id": "dfcd7a90-1f86-41bc-a738-abcf2e535ab5",
   "metadata": {},
   "outputs": [
    {
     "data": {
      "text/plain": [
       "True"
      ]
     },
     "execution_count": 14,
     "metadata": {},
     "output_type": "execute_result"
    }
   ],
   "source": [
    "isinstance(0.33333, float)"
   ]
  },
  {
   "cell_type": "markdown",
   "id": "0baa60b9-3fb9-4b7e-b38d-757e503969db",
   "metadata": {},
   "source": [
    "The arithmetic operations we learned last time work on floats as well as ints. If you use both floats and ints in the same math expression the result is a float:"
   ]
  },
  {
   "cell_type": "code",
   "execution_count": 17,
   "id": "556e4132-f8cc-4943-94ea-5440f3e72aa8",
   "metadata": {},
   "outputs": [
    {
     "data": {
      "text/plain": [
       "6.0"
      ]
     },
     "execution_count": 17,
     "metadata": {},
     "output_type": "execute_result"
    }
   ],
   "source": [
    "5 + 1.0"
   ]
  },
  {
   "cell_type": "markdown",
   "id": "887e20fb-e3fd-4ba9-b2f9-9031d0f7ad4b",
   "metadata": {},
   "source": [
    "You can convert a float to an integer using the int() function:"
   ]
  },
  {
   "cell_type": "code",
   "execution_count": 20,
   "id": "dbfa9ab8-63b8-4019-a6c3-b24f6bcbf211",
   "metadata": {},
   "outputs": [
    {
     "data": {
      "text/plain": [
       "6"
      ]
     },
     "execution_count": 20,
     "metadata": {},
     "output_type": "execute_result"
    }
   ],
   "source": [
    "int(6.0)"
   ]
  },
  {
   "cell_type": "markdown",
   "id": "eb46ee72-7c8c-4e0d-9cd7-cc216a99df72",
   "metadata": {},
   "source": [
    "You can convert an integer to a float with the float() function:"
   ]
  },
  {
   "cell_type": "code",
   "execution_count": 24,
   "id": "206ea51f-78eb-4913-b5d4-5717c7cbcfb1",
   "metadata": {},
   "outputs": [
    {
     "data": {
      "text/plain": [
       "6.0"
      ]
     },
     "execution_count": 24,
     "metadata": {},
     "output_type": "execute_result"
    }
   ],
   "source": [
    "float(6)"
   ]
  },
  {
   "cell_type": "markdown",
   "id": "6a3e9f35-80aa-4b42-87b9-bda20f3fc1cf",
   "metadata": {},
   "source": [
    "Floats can also take on a few special values: Inf, -Inf and NaN. Inf and -Inf stand for infinity and negative infinity respectively and NaN stands for \"not a number\", which is sometimes used as a placeholder for missing or erroneous numerical values."
   ]
  },
  {
   "cell_type": "code",
   "execution_count": 26,
   "id": "83548c2b-be24-458d-80ed-09c61a3e4f0b",
   "metadata": {},
   "outputs": [
    {
     "data": {
      "text/plain": [
       "float"
      ]
     },
     "execution_count": 26,
     "metadata": {},
     "output_type": "execute_result"
    }
   ],
   "source": [
    "type ( float (\"Inf\") )"
   ]
  },
  {
   "cell_type": "markdown",
   "id": "174a2584-b038-4d5f-b96c-991b1b2fedf3",
   "metadata": {},
   "source": [
    "### Booleans"
   ]
  },
  {
   "cell_type": "markdown",
   "id": "8db07dfe-9ee0-4730-9277-209701186558",
   "metadata": {},
   "source": [
    "Booleans or \"bools\" are true/false values that result from logical statements. In Python, booleans start with the first letter capitalized so True and False are recognized as bools but true and false are not. We've already seen an example of booleans when we used the isinstance() function above."
   ]
  },
  {
   "cell_type": "code",
   "execution_count": 30,
   "id": "858dff67-8881-4906-9330-d788ba8405a3",
   "metadata": {},
   "outputs": [
    {
     "data": {
      "text/plain": [
       "bool"
      ]
     },
     "execution_count": 30,
     "metadata": {},
     "output_type": "execute_result"
    }
   ],
   "source": [
    "type(True)"
   ]
  },
  {
   "cell_type": "code",
   "execution_count": 32,
   "id": "4e569b26-4ac5-45ac-b4a9-c5cc4a0fb4fe",
   "metadata": {},
   "outputs": [
    {
     "data": {
      "text/plain": [
       "True"
      ]
     },
     "execution_count": 32,
     "metadata": {},
     "output_type": "execute_result"
    }
   ],
   "source": [
    "# Use >  and  < for greater than and less than:\n",
    "    \n",
    "20 > 10 "
   ]
  },
  {
   "cell_type": "code",
   "execution_count": 34,
   "id": "30d6c035-9726-4893-a03a-f764f70ecc92",
   "metadata": {},
   "outputs": [
    {
     "data": {
      "text/plain": [
       "True"
      ]
     },
     "execution_count": 34,
     "metadata": {},
     "output_type": "execute_result"
    }
   ],
   "source": [
    "# Use == (two equal signs in a row) to check equality:\n",
    "\n",
    "10 == 10"
   ]
  },
  {
   "cell_type": "code",
   "execution_count": null,
   "id": "129f268b-a9c9-40f5-86ee-a98a45a59d3d",
   "metadata": {},
   "outputs": [],
   "source": []
  }
 ],
 "metadata": {
  "kernelspec": {
   "display_name": "Python 3 (ipykernel)",
   "language": "python",
   "name": "python3"
  },
  "language_info": {
   "codemirror_mode": {
    "name": "ipython",
    "version": 3
   },
   "file_extension": ".py",
   "mimetype": "text/x-python",
   "name": "python",
   "nbconvert_exporter": "python",
   "pygments_lexer": "ipython3",
   "version": "3.12.4"
  }
 },
 "nbformat": 4,
 "nbformat_minor": 5
}
