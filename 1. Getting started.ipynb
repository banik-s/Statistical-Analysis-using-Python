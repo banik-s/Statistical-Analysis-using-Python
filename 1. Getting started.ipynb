{
 "cells": [
  {
   "cell_type": "markdown",
   "id": "2ebd30cd-5521-4ccc-969f-ba413b4b770a",
   "metadata": {},
   "source": [
    "### About Python"
   ]
  },
  {
   "cell_type": "markdown",
   "id": "1083563d-49a3-4409-a6e1-39d4245eea96",
   "metadata": {},
   "source": [
    "### Python is an open source programming language that is popular for general software development and scripting, web development and data science. Since Python is a general purpose language, the base language does not include many of the data structures and functions necessary for data analysis. Python does, however, have an extensive selection of addon packages that give it great flexiblity and a robust library of data-oriented addons make it one of the most popular languages for data science. The majority of the programming kernels you'll find on Kaggle are written in Python."
   ]
  },
  {
   "cell_type": "markdown",
   "id": "80281965-7a59-4bc3-b996-bdb041fb3130",
   "metadata": {},
   "source": [
    "### Notebook Shortcuts"
   ]
  },
  {
   "cell_type": "markdown",
   "id": "cee0e8a2-6593-4e63-8d0c-0493e506f2f7",
   "metadata": {},
   "source": [
    "### The Jupyter programming environment comes with a variety of keyboard shortcuts that can help you do common operations quicker. First of all, it should be noted that the Jupyter notebook has two distinct modes: Edit mode and Command mode. When you click on a Markdown or code cell like this one (click on it now!), the notebook will be put into edit mode allowing you to directly edit the contents of the cell. While in edit mode, you have access to keyboard shortcuts that deal with editing the contents of the selected cell. Going into command mode lets you use a variety of higher level commands that let you do things like create new cells, delete cells and convert cells from one type to another. While in edit mode, press the escape key to enter command mode. Try it now!w!"
   ]
  },
  {
   "cell_type": "code",
   "execution_count": null,
   "id": "7f48e490-a4d7-43b0-9b4e-0a8b1a7da107",
   "metadata": {},
   "outputs": [],
   "source": []
  }
 ],
 "metadata": {
  "kernelspec": {
   "display_name": "Python 3 (ipykernel)",
   "language": "python",
   "name": "python3"
  },
  "language_info": {
   "codemirror_mode": {
    "name": "ipython",
    "version": 3
   },
   "file_extension": ".py",
   "mimetype": "text/x-python",
   "name": "python",
   "nbconvert_exporter": "python",
   "pygments_lexer": "ipython3",
   "version": "3.12.4"
  }
 },
 "nbformat": 4,
 "nbformat_minor": 5
}
